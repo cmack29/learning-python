{
 "cells": [
  {
   "cell_type": "code",
   "execution_count": 16,
   "metadata": {},
   "outputs": [
    {
     "name": "stdout",
     "output_type": "stream",
     "text": [
      "bowl\n",
      "glass\n",
      "napkin\n",
      "plate\n",
      "knife\n",
      "fork\n",
      "napkin\n",
      "knife\n",
      "glass\n",
      "plate\n",
      "bowl\n",
      "fork\n",
      "{'fork', 'napkin'}\n",
      "{'bowl', 'plate', 'glass', 'knife'}\n"
     ]
    }
   ],
   "source": [
    "cutlery = {\"fork\",\"knife\",\"spoon\"}\n",
    "# can't have dup values\n",
    "dishes = {\"plate\",\"bowl\",\"glass\",\"knife\"}\n",
    "\n",
    "cutlery.add(\"napkin\")\n",
    "cutlery.remove(\"spoon\")\n",
    "# cutlery.clear() - clears set\n",
    "cutlery.update(dishes)\n",
    "# merges sets, works both ways\n",
    "\n",
    "for x in cutlery:\n",
    "    print(x)\n",
    "\n",
    "dinner_table = cutlery.union(dishes)\n",
    "# merges permenantly \n",
    "\n",
    "for x in dinner_table:\n",
    "    print(x)\n",
    "\n",
    "print(cutlery.difference(dishes))\n",
    "# prints what cutlery has that dishes doesn't, reversable\n",
    "print(cutlery.intersection(dishes))\n",
    "# returns common elements\n"
   ]
  }
 ],
 "metadata": {
  "interpreter": {
   "hash": "31f2aee4e71d21fbe5cf8b01ff0e069b9275f58929596ceb00d14d90e3e16cd6"
  },
  "kernelspec": {
   "display_name": "Python 3.8.9 64-bit",
   "language": "python",
   "name": "python3"
  },
  "language_info": {
   "codemirror_mode": {
    "name": "ipython",
    "version": 3
   },
   "file_extension": ".py",
   "mimetype": "text/x-python",
   "name": "python",
   "nbconvert_exporter": "python",
   "pygments_lexer": "ipython3",
   "version": "3.8.9"
  },
  "orig_nbformat": 4
 },
 "nbformat": 4,
 "nbformat_minor": 2
}

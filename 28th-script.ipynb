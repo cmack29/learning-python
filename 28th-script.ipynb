{
 "cells": [
  {
   "cell_type": "code",
   "execution_count": 15,
   "metadata": {},
   "outputs": [
    {
     "name": "stdout",
     "output_type": "stream",
     "text": [
      "17\n",
      "0.27224419846707726\n",
      "Green\n",
      "[6, 5, 8, 3, 4, 2, 9, 'K', 'J', 7, 'Q', 'A']\n"
     ]
    }
   ],
   "source": [
    "import random\n",
    "\n",
    "# psudo random\n",
    "\n",
    "x = random.randint(1,100)\n",
    "y = random.random()\n",
    "# random number between 0 and 1\n",
    "\n",
    "print(x)\n",
    "print(y)\n",
    "\n",
    "myList = [\"Red\",\"Green\",\"Blue\"]\n",
    "z = random.choice(myList)\n",
    "\n",
    "print(z)\n",
    "\n",
    "cards = [2,3,4,5,6,7,8,9,\"J\",\"Q\",\"K\",\"A\"]\n",
    "\n",
    "random.shuffle(cards)\n",
    "\n",
    "print(cards)\n"
   ]
  }
 ],
 "metadata": {
  "interpreter": {
   "hash": "31f2aee4e71d21fbe5cf8b01ff0e069b9275f58929596ceb00d14d90e3e16cd6"
  },
  "kernelspec": {
   "display_name": "Python 3.8.9 64-bit",
   "language": "python",
   "name": "python3"
  },
  "language_info": {
   "codemirror_mode": {
    "name": "ipython",
    "version": 3
   },
   "file_extension": ".py",
   "mimetype": "text/x-python",
   "name": "python",
   "nbconvert_exporter": "python",
   "pygments_lexer": "ipython3",
   "version": "3.8.9"
  },
  "orig_nbformat": 4
 },
 "nbformat": 4,
 "nbformat_minor": 2
}

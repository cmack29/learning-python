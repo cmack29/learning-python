{
 "cells": [
  {
   "cell_type": "code",
   "execution_count": 17,
   "metadata": {},
   "outputs": [
    {
     "name": "stdout",
     "output_type": "stream",
     "text": [
      "The man conor ate the chicken\n",
      "The man conor ate the chicken\n",
      "The man conor ate the chicken\n",
      "The man C-Mack ate the Chips\n",
      "The man conor ate the chicken\n",
      "Hello, my name is McCormack\n",
      "Hello, my name is McCormack                . Nice to meet you.\n",
      "Hello, my name is McCormack                . Nice to meet you.\n",
      "Hello, my name is                 McCormack. Nice to meet you.\n",
      "Hello, my name is         McCormack        . Nice to meet you.\n",
      "Pi is 3.14\n"
     ]
    }
   ],
   "source": [
    "man = \"conor\"\n",
    "food = \"chicken\"\n",
    "\n",
    "print(\"The man \"+man+\" ate the \"+food)\n",
    "\n",
    "print(\"The man {} ate the {}\".format(man,food))\n",
    "\n",
    "print(\"The man {1} ate the {0}\".format(food,man))\n",
    "\n",
    "print(\"The man {man} ate the {food}\".format(man=\"C-Mack\",food=\"Chips\"))\n",
    "\n",
    "text = \"The man {} ate the {}\"\n",
    "\n",
    "print(text.format(man,food))\n",
    "\n",
    "name = \"McCormack\"\n",
    "\n",
    "print(\"Hello, my name is {}\".format(name))\n",
    "print(\"Hello, my name is {:25}. Nice to meet you.\".format(name))\n",
    "# number with : adds spacing, left align <, right align >, center ^\n",
    "print(\"Hello, my name is {:<25}. Nice to meet you.\".format(name))\n",
    "print(\"Hello, my name is {:>25}. Nice to meet you.\".format(name))\n",
    "print(\"Hello, my name is {:^25}. Nice to meet you.\".format(name))\n",
    "\n",
    "number = 3.14159\n",
    "\n",
    "print(\"Pi is {:.2f}\".format(number))\n",
    "# f is floating point, so with .2f only first 2 decimal points"
   ]
  }
 ],
 "metadata": {
  "interpreter": {
   "hash": "31f2aee4e71d21fbe5cf8b01ff0e069b9275f58929596ceb00d14d90e3e16cd6"
  },
  "kernelspec": {
   "display_name": "Python 3.8.9 64-bit",
   "language": "python",
   "name": "python3"
  },
  "language_info": {
   "codemirror_mode": {
    "name": "ipython",
    "version": 3
   },
   "file_extension": ".py",
   "mimetype": "text/x-python",
   "name": "python",
   "nbconvert_exporter": "python",
   "pygments_lexer": "ipython3",
   "version": "3.8.9"
  },
  "orig_nbformat": 4
 },
 "nbformat": 4,
 "nbformat_minor": 2
}

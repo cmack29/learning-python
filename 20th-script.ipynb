{
 "cells": [
  {
   "cell_type": "code",
   "execution_count": 9,
   "metadata": {},
   "outputs": [
    {
     "name": "stdout",
     "output_type": "stream",
     "text": [
      "Hello Conor\n",
      "Have a nice day\n",
      "Hey Conor McCormack\n",
      "Have a nice day\n"
     ]
    }
   ],
   "source": [
    "def hello(name):\n",
    "    print(\"Hello \"+name)\n",
    "    # def means define\n",
    "    print(\"Have a nice day\")\n",
    "\n",
    "# hello(\"Conor\")\n",
    "\n",
    "my_name = \"Conor\"\n",
    "\n",
    "hello(my_name)\n",
    "\n",
    "def hey(first_name,last_name):\n",
    "    print(\"Hey \"+first_name,last_name)\n",
    "    print(\"Have a nice day\")\n",
    "\n",
    "hey(\"Conor\",\"McCormack\")"
   ]
  }
 ],
 "metadata": {
  "interpreter": {
   "hash": "31f2aee4e71d21fbe5cf8b01ff0e069b9275f58929596ceb00d14d90e3e16cd6"
  },
  "kernelspec": {
   "display_name": "Python 3.8.9 64-bit",
   "language": "python",
   "name": "python3"
  },
  "language_info": {
   "codemirror_mode": {
    "name": "ipython",
    "version": 3
   },
   "file_extension": ".py",
   "mimetype": "text/x-python",
   "name": "python",
   "nbconvert_exporter": "python",
   "pygments_lexer": "ipython3",
   "version": "3.8.9"
  },
  "orig_nbformat": 4
 },
 "nbformat": 4,
 "nbformat_minor": 2
}

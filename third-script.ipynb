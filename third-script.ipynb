{
 "cells": [
  {
   "cell_type": "code",
   "execution_count": 20,
   "metadata": {},
   "outputs": [
    {
     "name": "stdout",
     "output_type": "stream",
     "text": [
      "5\n",
      "0\n",
      "Conor\n",
      "CONOR\n",
      "conor\n",
      "False\n",
      "True\n",
      "2\n",
      "canar\n",
      "conorconorconor\n"
     ]
    }
   ],
   "source": [
    "name = \"conor\"\n",
    "other_name = \"CONOR\"\n",
    "\n",
    "print(len(name))\n",
    "# len is length\n",
    "print(name.find(\"c\"))\n",
    "# finds index of character\n",
    "print(name.capitalize())\n",
    "# capitalises first character\n",
    "print(name.upper())\n",
    "# same but all characters\n",
    "print(other_name.lower())\n",
    "# you guessed it\n",
    "print(name.isdigit())\n",
    "# true if strings are digits false if not\n",
    "print(name.isalpha())\n",
    "# short for alphabet, will return false if theres a space\n",
    "print(name.count(\"o\"))\n",
    "# counts the number of specified letter etc\n",
    "print(name.replace(\"o\",\"a\"))\n",
    "# replaces characters\n",
    "print(name*3)\n",
    "# multiplies string, 3 in this case"
   ]
  }
 ],
 "metadata": {
  "interpreter": {
   "hash": "31f2aee4e71d21fbe5cf8b01ff0e069b9275f58929596ceb00d14d90e3e16cd6"
  },
  "kernelspec": {
   "display_name": "Python 3.8.9 64-bit",
   "language": "python",
   "name": "python3"
  },
  "language_info": {
   "codemirror_mode": {
    "name": "ipython",
    "version": 3
   },
   "file_extension": ".py",
   "mimetype": "text/x-python",
   "name": "python",
   "nbconvert_exporter": "python",
   "pygments_lexer": "ipython3",
   "version": "3.8.9"
  },
  "orig_nbformat": 4
 },
 "nbformat": 4,
 "nbformat_minor": 2
}

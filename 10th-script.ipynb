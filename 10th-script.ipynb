{
 "cells": [
  {
   "cell_type": "code",
   "execution_count": 2,
   "metadata": {},
   "outputs": [
    {
     "name": "stdout",
     "output_type": "stream",
     "text": [
      "Hey John\n",
      "Hi Conor\n"
     ]
    }
   ],
   "source": [
    "name = \"\"\n",
    "\n",
    "while len(name) == 0:\n",
    "    name = input(\"What is your name? \")\n",
    "\n",
    "print(\"Hey \"+name)\n",
    "\n",
    "\n",
    "name = None\n",
    "\n",
    "while not name:\n",
    "    name = input(\"Enter name: \")\n",
    "\n",
    "print(\"Hi \"+name)\n"
   ]
  }
 ],
 "metadata": {
  "interpreter": {
   "hash": "31f2aee4e71d21fbe5cf8b01ff0e069b9275f58929596ceb00d14d90e3e16cd6"
  },
  "kernelspec": {
   "display_name": "Python 3.8.9 64-bit",
   "language": "python",
   "name": "python3"
  },
  "language_info": {
   "codemirror_mode": {
    "name": "ipython",
    "version": 3
   },
   "file_extension": ".py",
   "mimetype": "text/x-python",
   "name": "python",
   "nbconvert_exporter": "python",
   "pygments_lexer": "ipython3",
   "version": "3.8.9"
  },
  "orig_nbformat": 4
 },
 "nbformat": 4,
 "nbformat_minor": 2
}

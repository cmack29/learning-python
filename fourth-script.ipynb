{
 "cells": [
  {
   "cell_type": "code",
   "execution_count": 12,
   "metadata": {},
   "outputs": [
    {
     "name": "stdout",
     "output_type": "stream",
     "text": [
      "1.0\n",
      "2\n",
      "3\n",
      "3\n",
      "2\n",
      "1\n",
      "2\n",
      "3\n",
      "1.0\n",
      "2.0\n",
      "3.0\n",
      "9.0\n"
     ]
    }
   ],
   "source": [
    "x = 1\n",
    "y = 2.0\n",
    "z = \"3\"\n",
    "\n",
    "print(float(x))\n",
    "print(int(y))\n",
    "# converting y to int rather than float\n",
    "print(z)\n",
    "\n",
    "y = int(y)\n",
    "#  converts to int permanently rather than just print \n",
    "z = int(z)\n",
    "print(z)\n",
    "print(y)\n",
    "\n",
    "x = str(x)\n",
    "y = str(y)\n",
    "z = str(z)\n",
    "\n",
    "print(x)\n",
    "print(y)\n",
    "print(z)\n",
    "\n",
    "x = float(x)\n",
    "y = float(y)\n",
    "z = float(z)\n",
    "\n",
    "print(x)\n",
    "print(y)\n",
    "print(z)\n",
    "print(z*z)\n",
    "\n",
    "print(\"x is \"+str(x))\n",
    "print(\"y is \"+str(y))\n",
    "print(\"z is \"+str(z))\n",
    "\n",
    "\n",
    "\n",
    "\n"
   ]
  }
 ],
 "metadata": {
  "interpreter": {
   "hash": "31f2aee4e71d21fbe5cf8b01ff0e069b9275f58929596ceb00d14d90e3e16cd6"
  },
  "kernelspec": {
   "display_name": "Python 3.8.9 64-bit",
   "language": "python",
   "name": "python3"
  },
  "language_info": {
   "codemirror_mode": {
    "name": "ipython",
    "version": 3
   },
   "file_extension": ".py",
   "mimetype": "text/x-python",
   "name": "python",
   "nbconvert_exporter": "python",
   "pygments_lexer": "ipython3",
   "version": "3.8.9"
  },
  "orig_nbformat": 4
 },
 "nbformat": 4,
 "nbformat_minor": 2
}

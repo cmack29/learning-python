{
 "cells": [
  {
   "cell_type": "code",
   "execution_count": null,
   "metadata": {},
   "outputs": [],
   "source": [
    "def hello(first, middle, last):\n",
    "    print(\"Hey \"+first+\" \"+middle+\" \"+last)\n",
    "\n",
    "hello(last=\"McCormack\",first=\"Conor\",middle=\"Thomas\")"
   ]
  }
 ],
 "metadata": {
  "language_info": {
   "name": "python"
  },
  "orig_nbformat": 4
 },
 "nbformat": 4,
 "nbformat_minor": 2
}

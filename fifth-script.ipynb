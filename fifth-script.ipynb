{
 "cells": [
  {
   "cell_type": "code",
   "execution_count": 8,
   "metadata": {},
   "outputs": [
    {
     "name": "stdout",
     "output_type": "stream",
     "text": [
      "Hey Conor McCormack\n",
      "You are 21 years old\n",
      "No way are you 183.5cm, stop lying!\n"
     ]
    }
   ],
   "source": [
    "name = input(\"What is your name? \")\n",
    "# input is in string format\n",
    "age = int(input(\"How old are you? \"))\n",
    "height = float(input(\"How tall are you? (cm) \"))\n",
    "\n",
    "print(\"Hey \"+name)\n",
    "print(\"You are \"+str(age)+\" years old\")\n",
    "print(\"No way are you \"+str(height)+\"cm, stop lying!\")\n"
   ]
  }
 ],
 "metadata": {
  "interpreter": {
   "hash": "31f2aee4e71d21fbe5cf8b01ff0e069b9275f58929596ceb00d14d90e3e16cd6"
  },
  "kernelspec": {
   "display_name": "Python 3.8.9 64-bit",
   "language": "python",
   "name": "python3"
  },
  "language_info": {
   "codemirror_mode": {
    "name": "ipython",
    "version": 3
   },
   "file_extension": ".py",
   "mimetype": "text/x-python",
   "name": "python",
   "nbconvert_exporter": "python",
   "pygments_lexer": "ipython3",
   "version": "3.8.9"
  },
  "orig_nbformat": 4
 },
 "nbformat": 4,
 "nbformat_minor": 2
}

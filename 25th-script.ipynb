{
 "cells": [
  {
   "cell_type": "code",
   "execution_count": 6,
   "metadata": {},
   "outputs": [
    {
     "name": "stdout",
     "output_type": "stream",
     "text": [
      "15\n",
      "55\n",
      "45\n"
     ]
    }
   ],
   "source": [
    "def addExample(num1,num2):\n",
    "    sum = num1 + num2\n",
    "    return sum\n",
    "\n",
    "print(addExample(7,8))\n",
    "# can only add 2 numbers\n",
    "\n",
    "def add(*args):\n",
    "    # * is needed for args\n",
    "    sum = 0\n",
    "    for i in args:\n",
    "        sum += i\n",
    "    return sum\n",
    "\n",
    "print(add(1,2,3,4,5,6,7,8,9,10))\n",
    "\n",
    "def add(*args):\n",
    "    sum = 0\n",
    "    args = list(args)\n",
    "    # list() needed to change values\n",
    "    args[9] = 0\n",
    "    for i in args:\n",
    "        sum += i\n",
    "    return sum\n",
    "\n",
    "print(add(1,2,3,4,5,6,7,8,9,10))"
   ]
  }
 ],
 "metadata": {
  "interpreter": {
   "hash": "31f2aee4e71d21fbe5cf8b01ff0e069b9275f58929596ceb00d14d90e3e16cd6"
  },
  "kernelspec": {
   "display_name": "Python 3.8.9 64-bit",
   "language": "python",
   "name": "python3"
  },
  "language_info": {
   "codemirror_mode": {
    "name": "ipython",
    "version": 3
   },
   "file_extension": ".py",
   "mimetype": "text/x-python",
   "name": "python",
   "nbconvert_exporter": "python",
   "pygments_lexer": "ipython3",
   "version": "3.8.9"
  },
  "orig_nbformat": 4
 },
 "nbformat": 4,
 "nbformat_minor": 2
}

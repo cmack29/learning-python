{
 "cells": [
  {
   "cell_type": "code",
   "execution_count": 56,
   "metadata": {},
   "outputs": [
    {
     "name": "stdout",
     "output_type": "stream",
     "text": [
      "Conor\n",
      "McCormack\n",
      "CnrMCrak\n",
      "CoMoa\n",
      "kcamroCcM ronoC\n"
     ]
    },
    {
     "ename": "TypeError",
     "evalue": "'slice' object is not callable",
     "output_type": "error",
     "traceback": [
      "\u001b[0;31m---------------------------------------------------------------------------\u001b[0m",
      "\u001b[0;31mTypeError\u001b[0m                                 Traceback (most recent call last)",
      "\u001b[1;32m/Users/c-mack/python/learning/seventh-script.ipynb Cell 1'\u001b[0m in \u001b[0;36m<cell line: 30>\u001b[0;34m()\u001b[0m\n\u001b[1;32m     <a href='vscode-notebook-cell:/Users/c-mack/python/learning/seventh-script.ipynb#ch0000000?line=26'>27</a>\u001b[0m website2 \u001b[39m=\u001b[39m \u001b[39m\"\u001b[39m\u001b[39mhttps://google.com\u001b[39m\u001b[39m\"\u001b[39m\n\u001b[1;32m     <a href='vscode-notebook-cell:/Users/c-mack/python/learning/seventh-script.ipynb#ch0000000?line=27'>28</a>\u001b[0m website1 \u001b[39m=\u001b[39m \u001b[39m\"\u001b[39m\u001b[39mhttps://youtube.com\u001b[39m\u001b[39m\"\u001b[39m\n\u001b[0;32m---> <a href='vscode-notebook-cell:/Users/c-mack/python/learning/seventh-script.ipynb#ch0000000?line=29'>30</a>\u001b[0m x \u001b[39m=\u001b[39m \u001b[39mslice\u001b[39;49m(\u001b[39m8\u001b[39;49m)\n\u001b[1;32m     <a href='vscode-notebook-cell:/Users/c-mack/python/learning/seventh-script.ipynb#ch0000000?line=31'>32</a>\u001b[0m \u001b[39mprint\u001b[39m(website2[x])\n\u001b[1;32m     <a href='vscode-notebook-cell:/Users/c-mack/python/learning/seventh-script.ipynb#ch0000000?line=32'>33</a>\u001b[0m \u001b[39mprint\u001b[39m(website1[x])\n",
      "\u001b[0;31mTypeError\u001b[0m: 'slice' object is not callable"
     ]
    }
   ],
   "source": [
    "name = \"Conor McCormack\"\n",
    "\n",
    "# [start:stop:step]\n",
    "\n",
    "first_name = name[0:5]\n",
    "# start index 0 because first index, stop index 5, not 4\n",
    "first_name = name[:5]\n",
    "# shorthand\n",
    "last_name = name[6:16]\n",
    "last_name = name[6:]\n",
    "# shorthand\n",
    "random_name = name[0:16:2]\n",
    "# every second letter\n",
    "random_name_two = name[0:16:3]\n",
    "# every third letter\n",
    "random_name = name[::2]\n",
    "# shorthand, although assumes start is 0 and stop is last index\n",
    "reversed_name = name[::-1]\n",
    "# reversed name\n",
    "\n",
    "print(first_name)\n",
    "print(last_name)\n",
    "print(random_name)\n",
    "print(random_name_two)\n",
    "print(reversed_name)\n",
    "\n",
    "website2 = \"https://google.com\"\n",
    "website1 = \"https://youtube.com\"\n",
    "\n",
    "x = slice(8,-4)\n",
    "\n",
    "print(website2[x])\n",
    "print(website1[x])"
   ]
  }
 ],
 "metadata": {
  "language_info": {
   "name": "python"
  },
  "orig_nbformat": 4
 },
 "nbformat": 4,
 "nbformat_minor": 2
}

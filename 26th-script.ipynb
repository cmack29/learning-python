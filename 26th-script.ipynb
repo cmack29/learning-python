{
 "cells": [
  {
   "cell_type": "code",
   "execution_count": 4,
   "metadata": {},
   "outputs": [
    {
     "name": "stdout",
     "output_type": "stream",
     "text": [
      "Hey Conor McCormack\n",
      "Hi Conor McCormack\n",
      "Hello again\n",
      "Conor\n",
      "Thomas\n",
      "McCormack\n"
     ]
    }
   ],
   "source": [
    "def hello(first_name, last_name):\n",
    "    print(\"Hey \"+first_name+\" \"+last_name)\n",
    "\n",
    "hello(first_name=\"Conor\",last_name=\"McCormack\")\n",
    "\n",
    "def hi(**kwargs):\n",
    "    print(\"Hi \"+kwargs['first_name']+\" \"+kwargs['last_name'])\n",
    "\n",
    "hi(first_name=\"Conor\",middle_name=\"Thomas\",last_name=\"McCormack\")\n",
    "\n",
    "def helloAgain(**kwargs):\n",
    "    print(\"Hello again\")\n",
    "    for key,value in kwargs.items():\n",
    "        print(value)\n",
    "\n",
    "helloAgain(first_name=\"Conor\",middle_name=\"Thomas\",last_name=\"McCormack\")\n",
    "\n",
    "def hey(**kwargs):\n",
    "    print(\"Hey\",end=\" \")\n",
    "    for key,value in kwargs.items():\n",
    "        print(value,end=\" \")\n",
    "\n",
    "hey(first_name=\"Conor\",middle_name=\"Thomas\",last_name=\"McCormack\")\n"
   ]
  }
 ],
 "metadata": {
  "interpreter": {
   "hash": "31f2aee4e71d21fbe5cf8b01ff0e069b9275f58929596ceb00d14d90e3e16cd6"
  },
  "kernelspec": {
   "display_name": "Python 3.8.9 64-bit",
   "language": "python",
   "name": "python3"
  },
  "language_info": {
   "codemirror_mode": {
    "name": "ipython",
    "version": 3
   },
   "file_extension": ".py",
   "mimetype": "text/x-python",
   "name": "python",
   "nbconvert_exporter": "python",
   "pygments_lexer": "ipython3",
   "version": "3.8.9"
  },
  "orig_nbformat": 4
 },
 "nbformat": 4,
 "nbformat_minor": 2
}

{
 "cells": [
  {
   "cell_type": "code",
   "execution_count": 3,
   "metadata": {},
   "outputs": [
    {
     "name": "stdout",
     "output_type": "stream",
     "text": [
      "Stay instide\n"
     ]
    }
   ],
   "source": [
    "temp = int(input(\"What's the temperature today? \"))\n",
    "\n",
    "if not(temp >= 0 and temp <= 30):\n",
    "    print(\"Stay instide\")\n",
    "    # print(\"The temp is good\")\n",
    "elif not(temp < 0 or temp > 30):\n",
    "    print(\"The temp is good\")\n",
    "    # print(\"Stay instide\")\n",
    "    # not flips the script"
   ]
  }
 ],
 "metadata": {
  "interpreter": {
   "hash": "31f2aee4e71d21fbe5cf8b01ff0e069b9275f58929596ceb00d14d90e3e16cd6"
  },
  "kernelspec": {
   "display_name": "Python 3.8.9 64-bit",
   "language": "python",
   "name": "python3"
  },
  "language_info": {
   "codemirror_mode": {
    "name": "ipython",
    "version": 3
   },
   "file_extension": ".py",
   "mimetype": "text/x-python",
   "name": "python",
   "nbconvert_exporter": "python",
   "pygments_lexer": "ipython3",
   "version": "3.8.9"
  },
  "orig_nbformat": 4
 },
 "nbformat": 4,
 "nbformat_minor": 2
}

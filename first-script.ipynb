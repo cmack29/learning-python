{
 "cells": [
  {
   "cell_type": "code",
   "execution_count": 6,
   "metadata": {},
   "outputs": [
    {
     "name": "stdout",
     "output_type": "stream",
     "text": [
      "hello\n",
      "I like cake\n",
      "Hey Conor\n",
      "<class 'str'>\n",
      "Hello Conor McCormack\n",
      "23\n",
      "<class 'int'>\n",
      "your age is 23\n",
      "20.5\n",
      "<class 'float'>\n",
      "the height is 20.5cm\n",
      "True\n",
      "<class 'bool'>\n"
     ]
    }
   ],
   "source": [
    "# First python code\n",
    "\n",
    "print(\"hello\")\n",
    "print(\"I like cake\")\n",
    "\n",
    "name = \"Conor\"\n",
    "print(\"Hey \"+name)\n",
    "\n",
    "print(type(name)) \n",
    "\n",
    "#the type function shows what data type it is\n",
    "\n",
    "first_name = \"Conor\"\n",
    "last_name = \"McCormack\"\n",
    "full_name = first_name + \" \" + last_name\n",
    "\n",
    "print(\"Hello \"+full_name)\n",
    "\n",
    "age = 21\n",
    "age = age + 1\n",
    "age += 1 # another way of typing age + 1\n",
    "print(age)\n",
    "print(type(age))\n",
    "print(\"your age is \"+str(age)) #str converts to string\n",
    "\n",
    "height = 20.5\n",
    "print(height)\n",
    "print(type(height))\n",
    "\n",
    "print(\"the height is \"+str(height)+\"cm\")\n",
    "\n",
    "active = True\n",
    "print(active)\n",
    "print(type(active))\n",
    "\n",
    "print(\"are you active?\"+str(active))\n"
   ]
  }
 ],
 "metadata": {
  "interpreter": {
   "hash": "31f2aee4e71d21fbe5cf8b01ff0e069b9275f58929596ceb00d14d90e3e16cd6"
  },
  "kernelspec": {
   "display_name": "Python 3.8.9 64-bit",
   "language": "python",
   "name": "python3"
  },
  "language_info": {
   "codemirror_mode": {
    "name": "ipython",
    "version": 3
   },
   "file_extension": ".py",
   "mimetype": "text/x-python",
   "name": "python",
   "nbconvert_exporter": "python",
   "pygments_lexer": "ipython3",
   "version": "3.8.9"
  },
  "orig_nbformat": 4
 },
 "nbformat": 4,
 "nbformat_minor": 2
}

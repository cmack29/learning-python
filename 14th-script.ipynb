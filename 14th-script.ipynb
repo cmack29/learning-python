{
 "cells": [
  {
   "cell_type": "code",
   "execution_count": 14,
   "metadata": {},
   "outputs": [
    {
     "name": "stdout",
     "output_type": "stream",
     "text": [
      "Cake\n",
      "Chicken\n",
      "Pizza\n"
     ]
    }
   ],
   "source": [
    "food = [\"Chicken\", \"Chips\", \"Burger\"]\n",
    "\n",
    "food[2] = \"Pizza\"\n",
    "\n",
    "food.append(\"Kebab\")\n",
    "# adds to the end of the list\n",
    "food.remove(\"Chips\")\n",
    "# removes from list\n",
    "food.pop()\n",
    "# removes last value from list\n",
    "food.insert(0, \"Cake\")\n",
    "# adds value to selected index in list\n",
    "food.sort()\n",
    "# sorts values of list\n",
    "food.clear()\n",
    "# clears all elements from list\n",
    "\n",
    "# print(food[0])\n",
    "# print(food[1])\n",
    "# print(food[2])\n",
    "\n",
    "for x in food:\n",
    "    print(x)"
   ]
  }
 ],
 "metadata": {
  "interpreter": {
   "hash": "31f2aee4e71d21fbe5cf8b01ff0e069b9275f58929596ceb00d14d90e3e16cd6"
  },
  "kernelspec": {
   "display_name": "Python 3.8.9 64-bit",
   "language": "python",
   "name": "python3"
  },
  "language_info": {
   "codemirror_mode": {
    "name": "ipython",
    "version": 3
   },
   "file_extension": ".py",
   "mimetype": "text/x-python",
   "name": "python",
   "nbconvert_exporter": "python",
   "pygments_lexer": "ipython3",
   "version": "3.8.9"
  },
  "orig_nbformat": 4
 },
 "nbformat": 4,
 "nbformat_minor": 2
}

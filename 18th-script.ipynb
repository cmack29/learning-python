{
 "cells": [
  {
   "cell_type": "code",
   "execution_count": 11,
   "metadata": {},
   "outputs": [
    {
     "name": "stdout",
     "output_type": "stream",
     "text": [
      "Dublin\n",
      "None\n",
      "dict_keys(['England', 'USA', 'Ireland', 'Wales'])\n",
      "dict_values(['London', 'Washington', 'Dublin', 'Cardiff'])\n",
      "dict_items([('England', 'London'), ('USA', 'Washington'), ('Ireland', 'Dublin'), ('Wales', 'Cardiff')])\n",
      "England London\n",
      "USA DC\n",
      "Ireland Dublin\n",
      "Germany Berlin\n"
     ]
    }
   ],
   "source": [
    "capitals = {\"England\": \"London\",\n",
    "            \"USA\": \"Washington\",\n",
    "            \"Ireland\": \"Dublin\",\n",
    "            \"Wales\": \"Cardiff\"}\n",
    "\n",
    "print(capitals[\"Ireland\"])\n",
    "print(capitals.get(\"Germany\"))\n",
    "# returns none if key not there\n",
    "print(capitals.keys())\n",
    "print(capitals.values())\n",
    "print(capitals.items())\n",
    "\n",
    "capitals.update({\"Germany\": \"Berlin\"})\n",
    "capitals.update({\"USA\": \"DC\"})\n",
    "capitals.pop(\"Wales\")\n",
    "# removes key\n",
    "\n",
    "for key,value in capitals.items():\n",
    "    print(key,value)\n",
    "\n",
    "capitals.clear()\n",
    "# removes all\n",
    "\n",
    "for key,value in capitals.items():\n",
    "    print(key,value)\n"
   ]
  }
 ],
 "metadata": {
  "interpreter": {
   "hash": "31f2aee4e71d21fbe5cf8b01ff0e069b9275f58929596ceb00d14d90e3e16cd6"
  },
  "kernelspec": {
   "display_name": "Python 3.8.9 64-bit",
   "language": "python",
   "name": "python3"
  },
  "language_info": {
   "codemirror_mode": {
    "name": "ipython",
    "version": 3
   },
   "file_extension": ".py",
   "mimetype": "text/x-python",
   "name": "python",
   "nbconvert_exporter": "python",
   "pygments_lexer": "ipython3",
   "version": "3.8.9"
  },
  "orig_nbformat": 4
 },
 "nbformat": 4,
 "nbformat_minor": 2
}

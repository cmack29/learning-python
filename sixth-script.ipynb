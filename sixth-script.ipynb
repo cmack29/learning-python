{
 "cells": [
  {
   "cell_type": "code",
   "execution_count": 9,
   "metadata": {},
   "outputs": [
    {
     "name": "stdout",
     "output_type": "stream",
     "text": [
      "3\n",
      "4\n",
      "3\n",
      "3.1415\n",
      "9.86902225\n",
      "1.772427713617681\n",
      "3\n",
      "1\n"
     ]
    }
   ],
   "source": [
    "import math\n",
    "\n",
    "pi = 3.1415\n",
    "x = 1\n",
    "y = 2\n",
    "z = 3\n",
    "\n",
    "print(round(pi))\n",
    "# rounds digit to nearest number\n",
    "print(math.ceil(pi))\n",
    "# this one rounds up regardless\n",
    "print(math.floor(pi))\n",
    "# same but down\n",
    "print(abs(pi))\n",
    "# absolute value function, measures distance from 0 so - will become +\n",
    "print(pow(pi,2))\n",
    "# to the power of, squared, cubed etc\n",
    "print(math.sqrt(pi))\n",
    "# square root\n",
    "print(max(x,y,z))\n",
    "# maximun value\n",
    "print(min(x,y,z))\n",
    "# minimum value\n"
   ]
  }
 ],
 "metadata": {
  "interpreter": {
   "hash": "31f2aee4e71d21fbe5cf8b01ff0e069b9275f58929596ceb00d14d90e3e16cd6"
  },
  "kernelspec": {
   "display_name": "Python 3.8.9 64-bit",
   "language": "python",
   "name": "python3"
  },
  "language_info": {
   "codemirror_mode": {
    "name": "ipython",
    "version": 3
   },
   "file_extension": ".py",
   "mimetype": "text/x-python",
   "name": "python",
   "nbconvert_exporter": "python",
   "pygments_lexer": "ipython3",
   "version": "3.8.9"
  },
  "orig_nbformat": 4
 },
 "nbformat": 4,
 "nbformat_minor": 2
}

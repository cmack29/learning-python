{
 "cells": [
  {
   "cell_type": "code",
   "execution_count": 2,
   "metadata": {},
   "outputs": [
    {
     "name": "stdout",
     "output_type": "stream",
     "text": [
      "Conor\n",
      "21\n",
      "True\n"
     ]
    }
   ],
   "source": [
    "# name = \"Conor\"\n",
    "# age = 21\n",
    "# alive = True\n",
    "\n",
    "name, age, alive = \"Conor\", 21, True\n",
    "\n",
    "print(name)\n",
    "print(age)\n",
    "print(alive)\n",
    "\n",
    "# Conor = 21\n",
    "# Sam = 21\n",
    "# Will = 21\n",
    "\n",
    "Conor = Sam = Will = 21\n",
    "\n",
    "print(Conor)\n",
    "print(Sam)\n",
    "print(Will)\n"
   ]
  }
 ],
 "metadata": {
  "interpreter": {
   "hash": "31f2aee4e71d21fbe5cf8b01ff0e069b9275f58929596ceb00d14d90e3e16cd6"
  },
  "kernelspec": {
   "display_name": "Python 3.8.9 64-bit",
   "language": "python",
   "name": "python3"
  },
  "language_info": {
   "codemirror_mode": {
    "name": "ipython",
    "version": 3
   },
   "file_extension": ".py",
   "mimetype": "text/x-python",
   "name": "python",
   "nbconvert_exporter": "python",
   "pygments_lexer": "ipython3",
   "version": "3.8.9"
  },
  "orig_nbformat": 4
 },
 "nbformat": 4,
 "nbformat_minor": 2
}

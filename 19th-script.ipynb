{
 "cells": [
  {
   "cell_type": "code",
   "execution_count": 8,
   "metadata": {},
   "outputs": [
    {
     "name": "stdout",
     "output_type": "stream",
     "text": [
      "Conor mccormack!\n",
      "CONOR\n",
      "MCCORMACK!\n",
      "!\n"
     ]
    }
   ],
   "source": [
    "name = \"conor mccormack!\"\n",
    "\n",
    "if(name[0].islower()):\n",
    "    name = name.capitalize()\n",
    "\n",
    "print(name)\n",
    "\n",
    "first_name = name[0:5].upper()\n",
    "# if starting at 0, 0 index not needed\n",
    "last_name = name[6:].upper()\n",
    "last_character = name[-1]\n",
    "\n",
    "print(first_name)\n",
    "print(last_name)\n",
    "print(last_character)"
   ]
  }
 ],
 "metadata": {
  "interpreter": {
   "hash": "31f2aee4e71d21fbe5cf8b01ff0e069b9275f58929596ceb00d14d90e3e16cd6"
  },
  "kernelspec": {
   "display_name": "Python 3.8.9 64-bit",
   "language": "python",
   "name": "python3"
  },
  "language_info": {
   "codemirror_mode": {
    "name": "ipython",
    "version": 3
   },
   "file_extension": ".py",
   "mimetype": "text/x-python",
   "name": "python",
   "nbconvert_exporter": "python",
   "pygments_lexer": "ipython3",
   "version": "3.8.9"
  },
  "orig_nbformat": 4
 },
 "nbformat": 4,
 "nbformat_minor": 2
}
